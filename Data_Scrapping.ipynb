{
 "cells": [
  {
   "cell_type": "code",
   "execution_count": 1,
   "id": "c6d1d225-6c99-409c-8317-3a7cf5e406ba",
   "metadata": {},
   "outputs": [],
   "source": [
    "from config import *\n",
    "from utilies import * "
   ]
  },
  {
   "cell_type": "code",
   "execution_count": 3,
   "id": "fef82b69-ca9d-459d-a5b2-727597e94dce",
   "metadata": {},
   "outputs": [],
   "source": [
    "client = MongoClient(uri,server_api=ServerApi('1'))\n",
    "db=client.jumia"
   ]
  },
  {
   "cell_type": "code",
   "execution_count": 5,
   "id": "3d3dc83f-1ab5-4f9d-a11f-1cd9e3fae19e",
   "metadata": {},
   "outputs": [],
   "source": [
    "driver = init_driver(geco_driver_url, user_agent=user_agent, is_headless=headless)"
   ]
  },
  {
   "cell_type": "code",
   "execution_count": 7,
   "id": "ef795da3-d82c-40e5-b56a-b777475af302",
   "metadata": {},
   "outputs": [],
   "source": [
    "categories = ['computing','video-games']\n",
    "for category in categories:\n",
    "    category_url= f\"{jumia_base_url}/{category}\"\n",
    "    for page in range(1,6):\n",
    "        page_url= f\"{category_url}/?page={str(page)}#catalog-listing\"\n",
    "        get_url(page_url,driver)\n",
    "        sleep(3)\n",
    "        products = get_products(driver)\n",
    "    break   "
   ]
  },
  {
   "cell_type": "code",
   "execution_count": 8,
   "id": "32fa65fe-89c5-4458-8eb4-35f26dba7582",
   "metadata": {},
   "outputs": [],
   "source": [
    "driver.quit()"
   ]
  }
 ],
 "metadata": {
  "kernelspec": {
   "display_name": "Python 3 (ipykernel)",
   "language": "python",
   "name": "python3"
  },
  "language_info": {
   "codemirror_mode": {
    "name": "ipython",
    "version": 3
   },
   "file_extension": ".py",
   "mimetype": "text/x-python",
   "name": "python",
   "nbconvert_exporter": "python",
   "pygments_lexer": "ipython3",
   "version": "3.12.0"
  }
 },
 "nbformat": 4,
 "nbformat_minor": 5
}
